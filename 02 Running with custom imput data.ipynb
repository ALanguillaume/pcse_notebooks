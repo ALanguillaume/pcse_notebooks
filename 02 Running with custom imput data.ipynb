{
 "cells": [
  {
   "cell_type": "markdown",
   "metadata": {},
   "source": [
    "<img style=\"float: right;\" src=\"data:image/png;base64,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\">\n",
    "\n"
   ]
  },
  {
   "cell_type": "markdown",
   "metadata": {},
   "source": [
    "# Running PCSE/WOFOST with custom input data\n",
    "\n",
    "This Jupyter notebook will show you how to read inputs from files.\n",
    "\n",
    "Allard de Wit, March 2018\n",
    "\n",
    "**Prerequisites for running this notebook**\n",
    "\n",
    "Several packages need to be installed for running PCSE/WOFOST:\n",
    "\n",
    "  1. PCSE and its dependencies. See the [PCSE user guide](http://pcse.readthedocs.io/en/stable/installing.html) for more information;\n",
    "  2. The `pandas` module for processing and storing WOFOST output;\n",
    "  3. The `matplotlib` module for generating charts\n",
    "\n",
    "\n",
    "## Introduction\n",
    "\n",
    "For running PCSE/WOFOST (and PCSE models in general) with your own data sources you need three different types of inputs:\n",
    "\n",
    " 1. Model parameters that parameterize the different model components. These parameters usually consist of a set of crop parameters (or multiple sets in case of crop rotations), a set of soil parameters and a set of site parameters. The latter provide ancillary parameters that are specific for a location, for example the initial amount of moisture in the soil.\n",
    " 2. Driving variables represented by weather data which can be derived from various sources.\n",
    " 3. Agromanagement actions which specify the farm activities that will take place on the field that is simulated by PCSE.\n",
    "\n",
    "For this example we will run a simulation for sugar beet in Wageningen (Netherlands) and we will read the input data step by step from several different sources instead of using the pre-configured start_wofost() script. For the example we will assume that data files are in the directory `D:\\temp\\pcse_examples` and all the parameter files needed can be found by unpacking this [zip file](http://pcse.readthedocs.io/en/stable/_downloads/quickstart_part2.zip) .\n"
   ]
  },
  {
   "cell_type": "markdown",
   "metadata": {},
   "source": [
    "## Importing the relevant modules\n"
   ]
  },
  {
   "cell_type": "code",
   "execution_count": 17,
   "metadata": {},
   "outputs": [
    {
     "name": "stdout",
     "output_type": "stream",
     "text": [
      "This notebook was built with:\n",
      "python version: 2.7.14 |Anaconda, Inc.| (default, Nov  8 2017, 13:40:13) [MSC v.1500 32 bit (Intel)] \n",
      "PCSE version: 5.3.1\n"
     ]
    }
   ],
   "source": [
    "%matplotlib inline\n",
    "import sys, os\n",
    "import matplotlib\n",
    "matplotlib.style.use(\"ggplot\")\n",
    "import matplotlib.pyplot as plt\n",
    "import pandas as pd\n",
    "\n",
    "data_dir = r\"D:\\temp\\pcse_examples\"\n",
    "import pcse\n",
    "print(\"This notebook was built with:\")\n",
    "print(\"python version: %s \" % sys.version)\n",
    "print(\"PCSE version: %s\" %  pcse.__version__)"
   ]
  },
  {
   "cell_type": "markdown",
   "metadata": {},
   "source": [
    "## Reading model parameters\n",
    "### Crop parameters\n",
    "\n",
    "The crop parameters consist of parameter names and the corresponding parameter values that are needed to parameterize the components of the crop simulation model. These are crop-specific values regarding phenology, assimilation, respiration, biomass partitioning, etc. The parameter file for sugar beet is taken from the crop files in the WOFOST Control Centre.\n",
    "\n",
    "As many crop models in Wageningen were written in FORTRAN, the crop parameters for many models in Wageningen are often provided in the CABO format that could be read with the TTUTIL FORTRAN library. This CABO format will be gradually phased out and PCSE will move to a new format based on YAML, see [here for an example](https://github.com/ajwdewit/WOFOST_crop_parameters/blob/master/wheat.yaml). However, PCSE tries to be backward compatible as much as possible and provides the `CABOFileReader` for reading parameter files in CABO format. The `CABOFileReader` returns a dictionary with the parameter name/value pairs:"
   ]
  },
  {
   "cell_type": "code",
   "execution_count": 3,
   "metadata": {},
   "outputs": [
    {
     "name": "stdout",
     "output_type": "stream",
     "text": [
      "** $Id: sug0601.cab 1.3 1997/09/25 14:07:02 LEM release $\n",
      "** File SUG0601.CAB\n",
      "** CROP DATA FILE for use with WOFOST Version 5.4, June 1992\n",
      "**\n",
      "** SUGAR BEET 601\n",
      "** Regions : Germany, Northern and Central France, Netherlands, Belgium,\n",
      "**           Luxembourg, UK, Ireland, Denmark\n",
      "** Sowing date : between 1 and 10 April\n",
      "** mean date of harvest : between 17 and 27 October\n",
      "** Derived from SUCROS87 data set for sugar beet.\n",
      "** Calibrated for use in WOFOST model at the Centre for Agrobiological\n",
      "** Research (CABO-DLO) for the simulation of crop growth and yield on the\n",
      "** basis of daily weather data.\n",
      "** Purpose of application: Crop growth monitoring with agrometeorological\n",
      "** model in the EC.\n",
      "** Developed in the framework of JRC Agriculture Project Action 3.\n",
      "------------------------------------\n",
      "DTSMTB: [0.0, 0.0, 3.0, 0.0, 21.0, 18.0, 35.0, 18.0] <type 'list'>\n",
      "CVR: 0.72 <type 'float'>\n",
      "CVS: 0.69 <type 'float'>\n",
      "EFFTB: [0.0, 0.45, 40.0, 0.45] <type 'list'>\n",
      "CVO: 0.82 <type 'float'>\n",
      "CVL: 0.72 <type 'float'>\n",
      "FSTB: [0.0, 0.15, 1.0, 0.5, 1.3, 0.1, 1.57, 0.1, 1.92, 0.05, 2.0, 0.05] <type 'list'>\n",
      "NMAXSO: 0.013 <type 'float'>\n",
      "AMAXTB: [0.0, 22.5, 1.0, 45.0, 1.13, 45.0, 1.8, 36.0, 2.0, 36.0] <type 'list'>\n",
      "DEPNR: 2.0 <type 'float'>\n",
      "KDIFTB: [0.0, 0.69, 2.0, 0.69] <type 'list'>\n",
      "YZERO: 0.0 <type 'float'>\n",
      "RMR: 0.015 <type 'float'>\n",
      "RMS: 0.015 <type 'float'>\n",
      "TBASEM: 3.0 <type 'float'>\n",
      "PMINSO: 0.0008 <type 'float'>\n",
      "RRI: 1.2 <type 'float'>\n",
      "IOX: 0 <type 'int'>\n",
      "NMINVE: 0.018 <type 'float'>\n",
      "SLATB: [0.0, 0.002, 2.0, 0.002] <type 'list'>\n",
      "TMPFTB: [0.0, 0.01, 3.0, 0.01, 10.0, 0.8, 15.0, 1.0, 20.0, 1.0, 30.0, 0.95, 35.0, 0.83, 40.0, 0.6] <type 'list'>\n",
      "TMNFTB: [0.0, 0.0, 3.0, 1.0] <type 'list'>\n",
      "Q10: 2.0 <type 'float'>\n",
      "SPA: 0.0 <type 'float'>\n",
      "FRTB: [0.0, 0.2, 0.91, 0.29, 1.0, 0.3, 1.15, 0.15, 1.29, 0.09, 1.3, 0.09, 1.57, 0.08, 1.92, 0.01, 2.0, 0.02] <type 'list'>\n",
      "SSATB: [0.0, 0.0, 2.0, 0.0] <type 'list'>\n",
      "RMO: 0.003 <type 'float'>\n",
      "RML: 0.03 <type 'float'>\n",
      "DLC: -99.0 <type 'float'>\n",
      "IAIRDU: 0 <type 'int'>\n",
      "KMAXSO: 0.013 <type 'float'>\n",
      "KMINVE: 0.018 <type 'float'>\n",
      "RGRLAI: 0.016 <type 'float'>\n",
      "DLO: -99.0 <type 'float'>\n",
      "NMAXVE: 0.028 <type 'float'>\n",
      "FOTB: [0.0, 0.0, 1.0, 0.0, 1.3, 0.85, 1.57, 0.85, 1.92, 0.9, 2.0, 0.9] <type 'list'>\n",
      "RFSETB: [0.0, 1.0, 2.0, 1.0] <type 'list'>\n",
      "TSUMEM: 90.0 <type 'float'>\n",
      "CRPNAM: Sugar beet 601, N-EC <type 'str'>\n",
      "DVSI: 0.0 <type 'float'>\n",
      "RDI: 10.0 <type 'float'>\n",
      "PMINVE: 0.0015 <type 'float'>\n",
      "RDRSTB: [0.0, 0.0, 1.5, 0.0, 1.5001, 0.02, 2.0, 0.02] <type 'list'>\n",
      "PERDL: 0.03 <type 'float'>\n",
      "RDMCR: 120.0 <type 'float'>\n",
      "IDSL: 0 <type 'int'>\n",
      "NFIX: 0.0 <type 'float'>\n",
      "SPAN: 35.0 <type 'float'>\n",
      "TBASE: 3.0 <type 'float'>\n",
      "CFET: 1.0 <type 'float'>\n",
      "DVSEND: 3.0 <type 'float'>\n",
      "PMAXVE: 0.0032 <type 'float'>\n",
      "FLTB: [0.0, 0.85, 1.0, 0.5, 1.3, 0.05, 1.57, 0.05, 2.0, 0.05] <type 'list'>\n",
      "LAIEM: 0.0007 <type 'float'>\n",
      "RDRRTB: [0.0, 0.0, 1.5, 0.0, 1.5001, 0.02, 2.0, 0.02] <type 'list'>\n",
      "TDWI: 0.51 <type 'float'>\n",
      "KMINSO: 0.006 <type 'float'>\n",
      "TEFFMX: 20.0 <type 'float'>\n",
      "PMAXSO: 0.0018 <type 'float'>\n",
      "TSUM2: 1400.0 <type 'float'>\n",
      "KMAXVE: 0.036 <type 'float'>\n",
      "TSUM1: 650.0 <type 'float'>\n",
      "NMINSO: 0.006 <type 'float'>\n",
      "\n"
     ]
    }
   ],
   "source": [
    "from pcse.fileinput import CABOFileReader\n",
    "cropfile = os.path.join(data_dir, 'sug0601.crop')\n",
    "cropdata = CABOFileReader(cropfile)\n",
    "print(cropdata)"
   ]
  },
  {
   "cell_type": "markdown",
   "metadata": {},
   "source": [
    "### Soil parameters\n",
    "The soildata dictionary provides the parameter name/value pairs related to the soil type and soil physical properties. The number of parameters is variable depending on the soil water balance type that is used for the simulation. For this example, we will use the water balance for freely draining soils and use the soil file for medium fine sand: `ec3.soil`. This file is also taken from the soil files in the [WOFOST Control Centre](http://www.wageningenur.nl/wofost)."
   ]
  },
  {
   "cell_type": "code",
   "execution_count": 6,
   "metadata": {},
   "outputs": [],
   "source": [
    "soilfile = os.path.join(data_dir, 'ec3.soil')\n",
    "soildata = CABOFileReader(soilfile)"
   ]
  },
  {
   "cell_type": "markdown",
   "metadata": {},
   "source": [
    "### Site parameters\n",
    "\n",
    "The site parameters provide ancillary parameters that are not related to the crop or the soil. Examples are the initial conditions of the water balance such as the initial soil moisture content (WAV) and the initial and maximum surface storage (SSI, SSMAX). Also the atmospheric $CO_{2}$ \n",
    "concentration is a typical site parameter. For the moment, we can define these parameters directly on the Python commandline as a simple python dictionary. However, it is more convenient to use the `WOFOST71SiteDataProvider` that documents the site parameters and provides sensible defaults:"
   ]
  },
  {
   "cell_type": "code",
   "execution_count": 5,
   "metadata": {},
   "outputs": [
    {
     "name": "stdout",
     "output_type": "stream",
     "text": [
      "{'SMLIM': 0.4, 'NOTINF': 0, 'CO2': 360.0, 'SSI': 0.0, 'SSMAX': 0.0, 'IFUNRN': 0, 'WAV': 100.0}\n"
     ]
    }
   ],
   "source": [
    "from pcse.util import WOFOST71SiteDataProvider\n",
    "sitedata = WOFOST71SiteDataProvider(WAV=100, CO2=360)\n",
    "print(sitedata)"
   ]
  },
  {
   "cell_type": "markdown",
   "metadata": {},
   "source": [
    "### Packaging all parameters\n",
    "Finally, we need to pack the different sets of parameters into one variable using the `ParameterProvider`. This is needed because PCSE expects one variable that contains all parameter values. Using this approach has the additional advantage that parameter value can be easily overridden in case of running multiple simulations with slightly different parameter values:"
   ]
  },
  {
   "cell_type": "code",
   "execution_count": 7,
   "metadata": {},
   "outputs": [],
   "source": [
    "from pcse.base_classes import ParameterProvider\n",
    "parameters = ParameterProvider(cropdata=cropdata, soildata=soildata, sitedata=sitedata)"
   ]
  },
  {
   "cell_type": "markdown",
   "metadata": {},
   "source": [
    "## Agromanagement\n",
    "The agromanagement inputs provide the start date of the agricultural campaign, the start_date/start_type of the crop simulation, the end_date/end_type of the crop simulation and the maximum duration of the crop simulation. The latter is included to avoid unrealistically long simulations for example as a results of a too high temperature sum requirement.\n",
    "\n",
    "The agromanagement inputs are defined with a special syntax called [YAML](http://yaml.org/) which allows to easily create more complex structures which is needed for defining the agromanagement. The agromanagement file for sugar beet in Wageningen `sugarbeet_calendar.agro` can be read with the `YAMLAgroManagementReader`:"
   ]
  },
  {
   "cell_type": "code",
   "execution_count": 14,
   "metadata": {},
   "outputs": [
    {
     "name": "stdout",
     "output_type": "stream",
     "text": [
      "!!python/object/new:pcse.fileinput.yaml_agmt_loader.YAMLAgroManagementReader\n",
      "listitems:\n",
      "- 2000-01-01:\n",
      "    CropCalendar:\n",
      "      crop_end_date: 2000-10-20\n",
      "      crop_end_type: harvest\n",
      "      crop_name: sugar-beet\n",
      "      crop_start_date: 2000-04-05\n",
      "      crop_start_type: emergence\n",
      "      max_duration: 300\n",
      "      variety_name: sugar-beet-601\n",
      "    StateEvents: null\n",
      "    TimedEvents: null\n",
      "\n"
     ]
    }
   ],
   "source": [
    "from pcse.fileinput import YAMLAgroManagementReader\n",
    "agromanagement_file = os.path.join(data_dir, 'sugarbeet_calendar.agro')\n",
    "agromanagement = YAMLAgroManagementReader(agromanagement_file)\n",
    "print(agromanagement)"
   ]
  },
  {
   "cell_type": "markdown",
   "metadata": {},
   "source": [
    "## Daily weather observations\n",
    "Daily weather variables are needed for running the simulation. There are several data providers in PCSE for reading weather data, see the section on [weather data providers](http://pcse.readthedocs.io/en/stable/reference_guide.html#weather-data-providers) to get an overview.\n",
    "\n",
    "For this example we will use the weather data from the NASA Power database which provides global weather data with a spatial resolution of 1 degree (~100 km). We will retrieve the data from the Power database for the location of Wageningen. Note that it can take around 30 seconds to retrieve the weather data from the NASA Power server the first time:"
   ]
  },
  {
   "cell_type": "code",
   "execution_count": 12,
   "metadata": {},
   "outputs": [
    {
     "name": "stdout",
     "output_type": "stream",
     "text": [
      "Weather data provided by: NASAPowerWeatherDataProvider\n",
      "--------Description---------\n",
      "NASA/POWER Agroclimatology Daily Averaged Data\n",
      "Dates (month/day/year): 01/01/1984 through 03/07/2018\n",
      "Location: Latitude 52   Longitude 5\n",
      "Location clarification: Integer values may indicate the lower left (south and west) corner of the one degree lat/lon region that includes the requested locations\n",
      "Elevation (meters): Average for one degree lat/lon region = 5\n",
      "Methodology Documentation:\n",
      "*Vegetation type: \"Airport\": flat rough grass\n",
      "----Site characteristics----\n",
      "Elevation:    5.0\n",
      "Latitude:  52.000\n",
      "Longitude:  5.000\n",
      "Data available for 1997-01-01 - 2015-10-31\n",
      "Number of missing days: 53\n",
      "\n"
     ]
    }
   ],
   "source": [
    "from pcse.db import NASAPowerWeatherDataProvider\n",
    "wdp = NASAPowerWeatherDataProvider(latitude=52, longitude=5)\n",
    "print(wdp)\n"
   ]
  },
  {
   "cell_type": "markdown",
   "metadata": {},
   "source": [
    "## Importing, initializing and running a PCSE model\n",
    "\n",
    "Internally, PCSE uses a simulation engine to run a crop simulation. This engine takes a configuration file that specifies the components for the crop, the soil and the agromanagement that need to be used for the simulation. So any PCSE model can be started by importing the engine and initializing it with a given configuration file and the corresponding parameters, weather data and agromanagement.\n",
    "\n",
    "However, as many users of PCSE only need a particular configuration (for example the WOFOST model for potential production), preconfigured Engines are provided in `pcse.models`. For the sugarbeet example we will import the WOFOST model for water-limited simulation under freely draining soil conditions:"
   ]
  },
  {
   "cell_type": "code",
   "execution_count": 15,
   "metadata": {},
   "outputs": [],
   "source": [
    "from pcse.models import Wofost71_WLP_FD\n",
    "wofsim = Wofost71_WLP_FD(parameters, wdp, agromanagement)"
   ]
  },
  {
   "cell_type": "markdown",
   "metadata": {},
   "source": [
    "We can then run the simulation and retrieve the time series of daily simulation output using the get_output() method on the WOFOST object. Finally, we convert the simulation reults to a pandas dataframe:"
   ]
  },
  {
   "cell_type": "code",
   "execution_count": 22,
   "metadata": {},
   "outputs": [
    {
     "data": {
      "text/html": [
       "<div>\n",
       "<style scoped>\n",
       "    .dataframe tbody tr th:only-of-type {\n",
       "        vertical-align: middle;\n",
       "    }\n",
       "\n",
       "    .dataframe tbody tr th {\n",
       "        vertical-align: top;\n",
       "    }\n",
       "\n",
       "    .dataframe thead th {\n",
       "        text-align: right;\n",
       "    }\n",
       "</style>\n",
       "<table border=\"1\" class=\"dataframe\">\n",
       "  <thead>\n",
       "    <tr style=\"text-align: right;\">\n",
       "      <th></th>\n",
       "      <th>DVS</th>\n",
       "      <th>LAI</th>\n",
       "      <th>RD</th>\n",
       "      <th>SM</th>\n",
       "      <th>TAGP</th>\n",
       "      <th>TRA</th>\n",
       "      <th>TWLV</th>\n",
       "      <th>TWRT</th>\n",
       "      <th>TWSO</th>\n",
       "      <th>TWST</th>\n",
       "      <th>WWLOW</th>\n",
       "    </tr>\n",
       "    <tr>\n",
       "      <th>day</th>\n",
       "      <th></th>\n",
       "      <th></th>\n",
       "      <th></th>\n",
       "      <th></th>\n",
       "      <th></th>\n",
       "      <th></th>\n",
       "      <th></th>\n",
       "      <th></th>\n",
       "      <th></th>\n",
       "      <th></th>\n",
       "      <th></th>\n",
       "    </tr>\n",
       "  </thead>\n",
       "  <tbody>\n",
       "    <tr>\n",
       "      <th>2000-10-16</th>\n",
       "      <td>2.201050</td>\n",
       "      <td>1.200832</td>\n",
       "      <td>80.0</td>\n",
       "      <td>0.239034</td>\n",
       "      <td>23557.982864</td>\n",
       "      <td>0.036234</td>\n",
       "      <td>3227.409768</td>\n",
       "      <td>2877.735493</td>\n",
       "      <td>16498.977589</td>\n",
       "      <td>3831.595507</td>\n",
       "      <td>19.122753</td>\n",
       "    </tr>\n",
       "    <tr>\n",
       "      <th>2000-10-17</th>\n",
       "      <td>2.207550</td>\n",
       "      <td>1.182712</td>\n",
       "      <td>80.0</td>\n",
       "      <td>0.245265</td>\n",
       "      <td>23557.982864</td>\n",
       "      <td>0.043473</td>\n",
       "      <td>3227.409768</td>\n",
       "      <td>2877.735493</td>\n",
       "      <td>16498.977589</td>\n",
       "      <td>3831.595507</td>\n",
       "      <td>19.621235</td>\n",
       "    </tr>\n",
       "    <tr>\n",
       "      <th>2000-10-18</th>\n",
       "      <td>2.213614</td>\n",
       "      <td>1.188421</td>\n",
       "      <td>80.0</td>\n",
       "      <td>0.244201</td>\n",
       "      <td>23615.065983</td>\n",
       "      <td>0.038306</td>\n",
       "      <td>3230.263924</td>\n",
       "      <td>2878.900454</td>\n",
       "      <td>16550.352395</td>\n",
       "      <td>3834.449663</td>\n",
       "      <td>19.536093</td>\n",
       "    </tr>\n",
       "    <tr>\n",
       "      <th>2000-10-19</th>\n",
       "      <td>2.218050</td>\n",
       "      <td>1.163961</td>\n",
       "      <td>80.0</td>\n",
       "      <td>0.250108</td>\n",
       "      <td>23629.737798</td>\n",
       "      <td>0.042180</td>\n",
       "      <td>3230.997515</td>\n",
       "      <td>2879.199879</td>\n",
       "      <td>16563.557029</td>\n",
       "      <td>3835.183254</td>\n",
       "      <td>20.008650</td>\n",
       "    </tr>\n",
       "    <tr>\n",
       "      <th>2000-10-20</th>\n",
       "      <td>2.223793</td>\n",
       "      <td>1.171007</td>\n",
       "      <td>80.0</td>\n",
       "      <td>0.249246</td>\n",
       "      <td>23700.199586</td>\n",
       "      <td>0.023517</td>\n",
       "      <td>3234.520604</td>\n",
       "      <td>2880.637875</td>\n",
       "      <td>16626.972638</td>\n",
       "      <td>3838.706343</td>\n",
       "      <td>19.939648</td>\n",
       "    </tr>\n",
       "  </tbody>\n",
       "</table>\n",
       "</div>"
      ],
      "text/plain": [
       "                 DVS       LAI    RD        SM          TAGP       TRA  \\\n",
       "day                                                                      \n",
       "2000-10-16  2.201050  1.200832  80.0  0.239034  23557.982864  0.036234   \n",
       "2000-10-17  2.207550  1.182712  80.0  0.245265  23557.982864  0.043473   \n",
       "2000-10-18  2.213614  1.188421  80.0  0.244201  23615.065983  0.038306   \n",
       "2000-10-19  2.218050  1.163961  80.0  0.250108  23629.737798  0.042180   \n",
       "2000-10-20  2.223793  1.171007  80.0  0.249246  23700.199586  0.023517   \n",
       "\n",
       "                   TWLV         TWRT          TWSO         TWST      WWLOW  \n",
       "day                                                                         \n",
       "2000-10-16  3227.409768  2877.735493  16498.977589  3831.595507  19.122753  \n",
       "2000-10-17  3227.409768  2877.735493  16498.977589  3831.595507  19.621235  \n",
       "2000-10-18  3230.263924  2878.900454  16550.352395  3834.449663  19.536093  \n",
       "2000-10-19  3230.997515  2879.199879  16563.557029  3835.183254  20.008650  \n",
       "2000-10-20  3234.520604  2880.637875  16626.972638  3838.706343  19.939648  "
      ]
     },
     "execution_count": 22,
     "metadata": {},
     "output_type": "execute_result"
    }
   ],
   "source": [
    "wofsim.run_till_terminate()\n",
    "df_results = pd.DataFrame(wofsim.get_output())\n",
    "df_results = df_results.set_index(\"day\")\n",
    "df_results.tail()"
   ]
  },
  {
   "cell_type": "markdown",
   "metadata": {},
   "source": [
    "Finally, we can generate some figures of WOFOST variables such as the development (DVS), total biomass (TAGP), leaf area index (LAI) and root-zone soil moisture (SM) using the MatPlotLib plotting package:"
   ]
  },
  {
   "cell_type": "code",
   "execution_count": 24,
   "metadata": {},
   "outputs": [
    {
     "data": {
      "image/png": "[encoded data removed]",
      "text/plain": [
       "<matplotlib.figure.Figure at 0xc4a0130>"
      ]
     },
     "metadata": {},
     "output_type": "display_data"
    }
   ],
   "source": [
    "fig, axes = plt.subplots(nrows=2, ncols=2, figsize=(10,8))\n",
    "for var, ax in zip([\"DVS\", \"TAGP\", \"LAI\", \"SM\"], axes.flatten()):\n",
    "    ax.plot_date(df_results.index, df_results[var], 'b-')\n",
    "    ax.set_title(var)\n",
    "fig.autofmt_xdate()"
   ]
  },
  {
   "cell_type": "code",
   "execution_count": null,
   "metadata": {},
   "outputs": [],
   "source": []
  }
 ],
 "metadata": {
  "kernelspec": {
   "display_name": "Python 2",
   "language": "python",
   "name": "python2"
  },
  "language_info": {
   "codemirror_mode": {
    "name": "ipython",
    "version": 2
   },
   "file_extension": ".py",
   "mimetype": "text/x-python",
   "name": "python",
   "nbconvert_exporter": "python",
   "pygments_lexer": "ipython2",
   "version": "2.7.14"
  }
 },
 "nbformat": 4,
 "nbformat_minor": 1
}
