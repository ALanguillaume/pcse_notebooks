{
 "cells": [
  {
   "cell_type": "markdown",
   "metadata": {},
   "source": [
    "<img src=http://www.wageningenur.nl/upload/f9a0b5f2-15c5-4b84-9e14-20ef02f5e265_wur-logo.png alt=\"Wageningen-UR\", style=\"float:right\">\n",
    "\n",
    "# Optimizing parameters in a PCSE crop model\n",
    "\n",
    "In this Jupyter notebook we will use a set of synthetic observations of LAI to optimize the TWDI (total initial dry weight) and SPAN (life span of leaves) parameters of the PCSE/WOFOST model using an optimization algorithm. \n",
    "\n",
    "Allard de Wit, January 2018 (allard.dewit@wur.nl)\n",
    "\n",
    "## First some relevant imports"
   ]
  },
  {
   "cell_type": "code",
   "execution_count": 1,
   "metadata": {
    "collapsed": false
   },
   "outputs": [],
   "source": [
    "%matplotlib inline\n",
    "from __future__ import print_function\n",
    "\n",
    "import matplotlib\n",
    "matplotlib.style.use(\"ggplot\")\n",
    "import matplotlib.pyplot as plt\n",
    "import yaml\n",
    "import pandas as pd\n",
    "import numpy as np\n",
    "import nlopt\n",
    "\n",
    "from pcse.models import Wofost71_PP\n",
    "from pcse.base_classes import ParameterProvider\n",
    "from pcse.db import NASAPowerWeatherDataProvider\n",
    "from pcse.fileinput import YAMLAgroManagementReader, YAMLCropDataProvider\n",
    "from pcse.util import WOFOST71SiteDataProvider, DummySoilDataProvider"
   ]
  },
  {
   "cell_type": "markdown",
   "metadata": {},
   "source": [
    "## Collect necessary input data for WOFOST"
   ]
  },
  {
   "cell_type": "code",
   "execution_count": 2,
   "metadata": {
    "collapsed": false
   },
   "outputs": [],
   "source": [
    "# Weather data for Netherlands\n",
    "wdp = NASAPowerWeatherDataProvider(latitude=52, longitude=5)\n",
    "# Standard crop parameter library\n",
    "cropd = YAMLCropDataProvider()\n",
    "# We don't need soil for potential production, so we use dummy values\n",
    "soild = DummySoilDataProvider()\n",
    "# Some site parameters\n",
    "sited = WOFOST71SiteDataProvider(WAV=50, CO2=360.)\n",
    "# Package everyting into a single parameter object\n",
    "params = ParameterProvider(cropdata=cropd, sitedata=sited, soildata=soild)"
   ]
  },
  {
   "cell_type": "code",
   "execution_count": 3,
   "metadata": {
    "collapsed": true
   },
   "outputs": [],
   "source": [
    "# Here we define the agromanagement for sugar beet\n",
    "agro_yaml = \"\"\"\n",
    "- 2006-01-01:\n",
    "    CropCalendar:\n",
    "        crop_name: sugarbeet\n",
    "        variety_name: Sugarbeet_603\n",
    "        crop_start_date: 2006-03-31\n",
    "        crop_start_type: emergence\n",
    "        crop_end_date: 2006-10-20\n",
    "        crop_end_type: harvest\n",
    "        max_duration: 300\n",
    "    TimedEvents: null\n",
    "    StateEvents: null\n",
    "\"\"\"\n",
    "agro = yaml.load(agro_yaml)"
   ]
  },
  {
   "cell_type": "markdown",
   "metadata": {},
   "source": [
    "# Run the simulation with the default parameters\n",
    "We use the standard WOFOST output as pseudo observations, so first we run the model with the default crop parameters and collect the output."
   ]
  },
  {
   "cell_type": "code",
   "execution_count": 4,
   "metadata": {
    "collapsed": false
   },
   "outputs": [
    {
     "data": {
      "text/html": [
       "<div>\n",
       "<style>\n",
       "    .dataframe thead tr:only-child th {\n",
       "        text-align: right;\n",
       "    }\n",
       "\n",
       "    .dataframe thead th {\n",
       "        text-align: left;\n",
       "    }\n",
       "\n",
       "    .dataframe tbody tr th {\n",
       "        vertical-align: top;\n",
       "    }\n",
       "</style>\n",
       "<table border=\"1\" class=\"dataframe\">\n",
       "  <thead>\n",
       "    <tr style=\"text-align: right;\">\n",
       "      <th></th>\n",
       "      <th>DVS</th>\n",
       "      <th>LAI</th>\n",
       "      <th>RD</th>\n",
       "      <th>SM</th>\n",
       "      <th>TAGP</th>\n",
       "      <th>TRA</th>\n",
       "      <th>TWLV</th>\n",
       "      <th>TWRT</th>\n",
       "      <th>TWSO</th>\n",
       "      <th>TWST</th>\n",
       "      <th>WWLOW</th>\n",
       "      <th>day</th>\n",
       "    </tr>\n",
       "    <tr>\n",
       "      <th>day</th>\n",
       "      <th></th>\n",
       "      <th></th>\n",
       "      <th></th>\n",
       "      <th></th>\n",
       "      <th></th>\n",
       "      <th></th>\n",
       "      <th></th>\n",
       "      <th></th>\n",
       "      <th></th>\n",
       "      <th></th>\n",
       "      <th></th>\n",
       "      <th></th>\n",
       "    </tr>\n",
       "  </thead>\n",
       "  <tbody>\n",
       "    <tr>\n",
       "      <th>2006-10-16</th>\n",
       "      <td>2.220936</td>\n",
       "      <td>1.265845</td>\n",
       "      <td>120.0</td>\n",
       "      <td>0.3</td>\n",
       "      <td>24726.215259</td>\n",
       "      <td>0.093676</td>\n",
       "      <td>4789.672927</td>\n",
       "      <td>3802.966287</td>\n",
       "      <td>15107.189420</td>\n",
       "      <td>4829.352912</td>\n",
       "      <td>None</td>\n",
       "      <td>2006-10-16</td>\n",
       "    </tr>\n",
       "    <tr>\n",
       "      <th>2006-10-17</th>\n",
       "      <td>2.226857</td>\n",
       "      <td>1.274199</td>\n",
       "      <td>120.0</td>\n",
       "      <td>0.3</td>\n",
       "      <td>24809.761572</td>\n",
       "      <td>0.091826</td>\n",
       "      <td>4793.850243</td>\n",
       "      <td>3804.671314</td>\n",
       "      <td>15182.381101</td>\n",
       "      <td>4833.530228</td>\n",
       "      <td>None</td>\n",
       "      <td>2006-10-17</td>\n",
       "    </tr>\n",
       "    <tr>\n",
       "      <th>2006-10-18</th>\n",
       "      <td>2.233179</td>\n",
       "      <td>1.257153</td>\n",
       "      <td>120.0</td>\n",
       "      <td>0.3</td>\n",
       "      <td>24889.245924</td>\n",
       "      <td>0.065323</td>\n",
       "      <td>4797.824460</td>\n",
       "      <td>3806.293443</td>\n",
       "      <td>15253.917018</td>\n",
       "      <td>4837.504445</td>\n",
       "      <td>None</td>\n",
       "      <td>2006-10-18</td>\n",
       "    </tr>\n",
       "    <tr>\n",
       "      <th>2006-10-19</th>\n",
       "      <td>2.241614</td>\n",
       "      <td>1.257496</td>\n",
       "      <td>120.0</td>\n",
       "      <td>0.3</td>\n",
       "      <td>24892.670481</td>\n",
       "      <td>0.073979</td>\n",
       "      <td>4797.995688</td>\n",
       "      <td>3806.363332</td>\n",
       "      <td>15256.999120</td>\n",
       "      <td>4837.675673</td>\n",
       "      <td>None</td>\n",
       "      <td>2006-10-19</td>\n",
       "    </tr>\n",
       "    <tr>\n",
       "      <th>2006-10-20</th>\n",
       "      <td>2.250150</td>\n",
       "      <td>1.234993</td>\n",
       "      <td>120.0</td>\n",
       "      <td>0.3</td>\n",
       "      <td>24924.501058</td>\n",
       "      <td>0.071356</td>\n",
       "      <td>4799.587217</td>\n",
       "      <td>3807.012936</td>\n",
       "      <td>15285.646639</td>\n",
       "      <td>4839.267202</td>\n",
       "      <td>None</td>\n",
       "      <td>2006-10-20</td>\n",
       "    </tr>\n",
       "  </tbody>\n",
       "</table>\n",
       "</div>"
      ],
      "text/plain": [
       "                 DVS       LAI     RD   SM          TAGP       TRA  \\\n",
       "day                                                                  \n",
       "2006-10-16  2.220936  1.265845  120.0  0.3  24726.215259  0.093676   \n",
       "2006-10-17  2.226857  1.274199  120.0  0.3  24809.761572  0.091826   \n",
       "2006-10-18  2.233179  1.257153  120.0  0.3  24889.245924  0.065323   \n",
       "2006-10-19  2.241614  1.257496  120.0  0.3  24892.670481  0.073979   \n",
       "2006-10-20  2.250150  1.234993  120.0  0.3  24924.501058  0.071356   \n",
       "\n",
       "                   TWLV         TWRT          TWSO         TWST WWLOW  \\\n",
       "day                                                                     \n",
       "2006-10-16  4789.672927  3802.966287  15107.189420  4829.352912  None   \n",
       "2006-10-17  4793.850243  3804.671314  15182.381101  4833.530228  None   \n",
       "2006-10-18  4797.824460  3806.293443  15253.917018  4837.504445  None   \n",
       "2006-10-19  4797.995688  3806.363332  15256.999120  4837.675673  None   \n",
       "2006-10-20  4799.587217  3807.012936  15285.646639  4839.267202  None   \n",
       "\n",
       "                   day  \n",
       "day                     \n",
       "2006-10-16  2006-10-16  \n",
       "2006-10-17  2006-10-17  \n",
       "2006-10-18  2006-10-18  \n",
       "2006-10-19  2006-10-19  \n",
       "2006-10-20  2006-10-20  "
      ]
     },
     "execution_count": 4,
     "metadata": {},
     "output_type": "execute_result"
    }
   ],
   "source": [
    "wofost = Wofost71_PP(params, wdp, agro)\n",
    "wofost.run_till_terminate()\n",
    "df = pd.DataFrame(wofost.get_output())\n",
    "df.index = pd.to_datetime(df.day)\n",
    "df.tail()"
   ]
  },
  {
   "cell_type": "markdown",
   "metadata": {},
   "source": [
    "## Sample the WOFOST output to generate some \"observations\"\n",
    "Let's assume that we have weekly field observations of LAI, therefore we resample the dataframe with WOFOST output."
   ]
  },
  {
   "cell_type": "code",
   "execution_count": 5,
   "metadata": {
    "collapsed": false
   },
   "outputs": [
    {
     "data": {
      "text/plain": [
       "<matplotlib.text.Text at 0x69dfaf0>"
      ]
     },
     "execution_count": 5,
     "metadata": {},
     "output_type": "execute_result"
    },
    {
     "data": {
      "image/png": "[encoded data removed]",
      "text/plain": [
       "<matplotlib.figure.Figure at 0x8978070>"
      ]
     },
     "metadata": {},
     "output_type": "display_data"
    }
   ],
   "source": [
    "# get daily observations for those\n",
    "ix = (df.index.dayofweek == 0) & (df.LAI.notnull())\n",
    "df_pseudo_obs = df.loc[ix]\n",
    "fig, axes = plt.subplots(figsize=(12,8))\n",
    "axes.plot_date(df_pseudo_obs.index, df_pseudo_obs.LAI)\n",
    "axes.set_title(\"Pseudo LAI observations\")"
   ]
  },
  {
   "cell_type": "markdown",
   "metadata": {},
   "source": [
    "## Define a model runner\n",
    "A model runner just reruns the WOFOST model with different values for a set of parameters, in this case \"TDWI\" and \"SPAN\". It then collects the model output, converts it to a dataframe and returns it. \n",
    "\n",
    "Changing the model parameters for each WOFOST simulation is done with the `set_override()` method on the parameter object."
   ]
  },
  {
   "cell_type": "code",
   "execution_count": 6,
   "metadata": {
    "collapsed": false
   },
   "outputs": [],
   "source": [
    "class ModelRerunner(object):\n",
    "    \"\"\"Reruns a given model with different values of parameters TWDI and SPAN.\n",
    "    \n",
    "    Returns a pandas DataFrame with simulation results of the model with given\n",
    "    parameter values.\n",
    "    \"\"\"\n",
    "    parameters = [\"TDWI\", \"SPAN\"]\n",
    "    \n",
    "    def __init__(self, params, wdp, agro):\n",
    "        self.params = params\n",
    "        self.wdp = wdp\n",
    "        self.agro = agro\n",
    "        \n",
    "    def __call__(self, par_values):\n",
    "        # Check if correct number of parameter values were provided\n",
    "        if len(par_values) != len(self.parameters):\n",
    "            msg = \"Optimizing %i parameters, but only % values were provided!\" % (len(self.parameters, len(par_values)))\n",
    "            raise RuntimeError(msg)\n",
    "        # Clear any existing overrides\n",
    "        self.params.clear_override()\n",
    "        # Set overrides for the new parameter values\n",
    "        for parname, value in zip(self.parameters, par_values):\n",
    "            self.params.set_override(parname, value)\n",
    "        # Run the model with given parameter values\n",
    "        wofost = Wofost71_PP(self.params, self.wdp, self.agro)\n",
    "        wofost.run_till_terminate()\n",
    "        df = pd.DataFrame(wofost.get_output())\n",
    "        df.index = pd.to_datetime(df.day)\n",
    "        return df"
   ]
  },
  {
   "cell_type": "markdown",
   "metadata": {},
   "source": [
    "## Define an object function calculator\n",
    "The objective function calculator runs the WOFOST model with the given set of input parameters, collects the simulation results and computes the differences with the observations. Different objective functions can be used, in this case we use the root of the mean squared error (RMSE)."
   ]
  },
  {
   "cell_type": "code",
   "execution_count": 7,
   "metadata": {
    "collapsed": true
   },
   "outputs": [],
   "source": [
    "class ObjectiveFunctionCalculator(object):\n",
    "    \"\"\"Computes the objective function.\n",
    "    \n",
    "    This class runs the simulation model with given parameter values and returns the objective\n",
    "    function as the sum of squared difference between observed and simulated LAI.\n",
    ".   \"\"\"\n",
    "    \n",
    "    def __init__(self, params, wdp, agro, observations):\n",
    "        self.modelrerunner = ModelRerunner(params, wdp, agro)\n",
    "        self.df_observations = observations\n",
    "        self.n_calls = 0\n",
    "       \n",
    "    def __call__(self, par_values, grad=None):\n",
    "        \"\"\"Runs the model and computes the objective function for given par_values.\n",
    "        \n",
    "        The input parameter 'grad' must be defined in the function call, but is only\n",
    "        required for optimization methods where analytical gradients can be computed.\n",
    "        \"\"\"\n",
    "        self.n_calls += 1\n",
    "        print(\".\", end=\"\")\n",
    "        # Run the model and collect output\n",
    "        self.df_simulations = self.modelrerunner(par_values)\n",
    "        # compute the differences by subtracting the DataFrames\n",
    "        # Note that the dataframes automatically join on the index (dates) and column names\n",
    "        df_differences = self.df_simulations - self.df_observations\n",
    "        # Compute the RMSE on the LAI column\n",
    "        obj_func = np.sqrt(np.mean(df_differences.LAI**2))\n",
    "        return obj_func"
   ]
  },
  {
   "cell_type": "markdown",
   "metadata": {},
   "source": [
    "## Test the objective function calculator\n",
    "The objective function calculator should return a value of zero when called with the default \n",
    "values of TWDI and SPAN."
   ]
  },
  {
   "cell_type": "code",
   "execution_count": 8,
   "metadata": {
    "collapsed": false
   },
   "outputs": [
    {
     "name": "stdout",
     "output_type": "stream",
     "text": [
      ".Error with default parameters ([0.51, 37.0]): 0.0\n"
     ]
    }
   ],
   "source": [
    "objfunc_calculator = ObjectiveFunctionCalculator(params, wdp, agro, df_pseudo_obs)\n",
    "defaults = [cropd[\"TDWI\"], cropd[\"SPAN\"]]\n",
    "error = objfunc_calculator(defaults)\n",
    "print(\"Error with default parameters (%s): %s\" % (defaults, error))"
   ]
  },
  {
   "cell_type": "markdown",
   "metadata": {},
   "source": [
    "## Let's try to find the optimum by brute force\n",
    "We will now find the optimum by simply trying combinations of TDWI/SPAN across a grid in certain step sizes. Of course in reality we do not know where the true value is and you may need to make the step size smaller. Note that with small step sizes, the number of function calls increases quadratically and this approach becomes impractical.\n",
    "\n",
    "With the current example, we do not reach an error of zero because with our default stepsize (0.02) TWDI does not hit the true value (0.51)."
   ]
  },
  {
   "cell_type": "code",
   "execution_count": 10,
   "metadata": {
    "collapsed": false
   },
   "outputs": [
    {
     "name": "stdout",
     "output_type": "stream",
     "text": [
      "....................................................................................................\n",
      "Lowest error (0.0117298837451) with values: [0.52000000000000013, 37.0]\n"
     ]
    }
   ],
   "source": [
    "lowest_error = 99999\n",
    "best_values = None\n",
    "stepsize1 = 0.02\n",
    "stepsize2 = 1.\n",
    "for p1 in np.arange(0.4, 0.6, stepsize1):\n",
    "    for p2 in np.arange(30, 40, stepsize2):\n",
    "        error = objfunc_calculator([p1, p2])\n",
    "        if error <  lowest_error:\n",
    "            best_values = [p1, p2]\n",
    "            lowest_error = error\n",
    "print(\"\\nLowest error (%s) with values: %s\" % (lowest_error, best_values))\n",
    "            "
   ]
  },
  {
   "cell_type": "markdown",
   "metadata": {},
   "source": [
    "## Try to do smart optimization: use NLOPT\n",
    "the NLOPT library provides many algorithms for numerical optimization. We use NLOPT a lot for optimization of crop simulation models but only the global search algorithms (the 'GN' algorithms) and the local search algorithms that do not require analytical gradients (the 'LN' algorithms) because computing analytical gradients on crop simulation models is not feasible.\n",
    "\n",
    "My experience is that NLOPT library provides better optimization algorithms compared to `scipy.optimize`. However, NLOPT can be a bit tricky to install and is best installed through `conda` (64-bit only) or downloaded from this page: https://www.lfd.uci.edu/%7Egohlke/pythonlibs/#nlopt"
   ]
  },
  {
   "cell_type": "code",
   "execution_count": 11,
   "metadata": {
    "collapsed": false
   },
   "outputs": [
    {
     "name": "stdout",
     "output_type": "stream",
     "text": [
      "......................................................................................................................................................\n",
      "optimum at TDWI: 0.509983372698, SPAN: 36.8521298619\n",
      "minimum value =  0.000698323244796\n",
      "result code =  3\n",
      "With 150 function calls\n"
     ]
    }
   ],
   "source": [
    "objfunc_calculator = ObjectiveFunctionCalculator(params, wdp, agro, df_pseudo_obs)\n",
    "# Start optimizer with the SUBPLEX algorithm for two parameters\n",
    "opt = nlopt.opt(nlopt.LN_SBPLX, 2)\n",
    "# Assign the objective function calculator\n",
    "opt.set_min_objective(objfunc_calculator)\n",
    "# lower bounds of parameters values\n",
    "opt.set_lower_bounds([0.3, 30])\n",
    "# upper bounds of parameters values\n",
    "opt.set_upper_bounds([1., 45.])\n",
    "# the initial step size to compute numerical gradients\n",
    "opt.set_initial_step([0.02, 2.])\n",
    "# Maximum number of evaluations allowed\n",
    "opt.set_maxeval(200)\n",
    "# Relative tolerance for convergence\n",
    "opt.set_ftol_rel(0.001)\n",
    "\n",
    "# Start the optimization with the first guess\n",
    "firstguess = [0.4, 32.]\n",
    "x = opt.optimize(firstguess)\n",
    "print(\"\\noptimum at TDWI: %s, SPAN: %s\" % (x[0], x[1]))\n",
    "print(\"minimum value = \",  opt.last_optimum_value())\n",
    "print(\"result code = \", opt.last_optimize_result())\n",
    "print(\"With %i function calls\" % objfunc_calculator.n_calls)"
   ]
  },
  {
   "cell_type": "markdown",
   "metadata": {},
   "source": [
    "## Plot pseudo observations and simulated LAI after optimization "
   ]
  },
  {
   "cell_type": "code",
   "execution_count": 12,
   "metadata": {
    "collapsed": false
   },
   "outputs": [
    {
     "data": {
      "text/plain": [
       "<matplotlib.text.Text at 0x8ee9250>"
      ]
     },
     "execution_count": 12,
     "metadata": {},
     "output_type": "execute_result"
    },
    {
     "data": {
      "image/png": "[encoded data removed]",
      "text/plain": [
       "<matplotlib.figure.Figure at 0x8e50850>"
      ]
     },
     "metadata": {},
     "output_type": "display_data"
    }
   ],
   "source": [
    "fig, axes = plt.subplots(figsize=(12,8))\n",
    "axes.plot_date(df_pseudo_obs.index, df_pseudo_obs.LAI)\n",
    "axes.plot_date(objfunc_calculator.df_simulations.index, objfunc_calculator.df_simulations.LAI, \"k:\")\n",
    "axes.set_title(\"Pseudo LAI observations with optimized model.\")"
   ]
  },
  {
   "cell_type": "code",
   "execution_count": null,
   "metadata": {
    "collapsed": true
   },
   "outputs": [],
   "source": []
  }
 ],
 "metadata": {
  "kernelspec": {
   "display_name": "Python 2",
   "language": "python",
   "name": "python2"
  },
  "language_info": {
   "codemirror_mode": {
    "name": "ipython",
    "version": 2
   },
   "file_extension": ".py",
   "mimetype": "text/x-python",
   "name": "python",
   "nbconvert_exporter": "python",
   "pygments_lexer": "ipython2",
   "version": "2.7.12"
  }
 },
 "nbformat": 4,
 "nbformat_minor": 1
}
